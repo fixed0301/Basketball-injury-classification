{
 "cells": [
  {
   "cell_type": "code",
   "execution_count": 1,
   "outputs": [],
   "source": [
    "import cv2\n",
    "import mediapipe as mp\n",
    "import numpy as np\n"
   ],
   "metadata": {
    "collapsed": false,
    "ExecuteTime": {
     "end_time": "2023-11-22T04:08:22.149847700Z",
     "start_time": "2023-11-22T04:07:54.208059600Z"
    }
   },
   "id": "67aeaff6aef64bea"
  },
  {
   "cell_type": "code",
   "execution_count": 2,
   "outputs": [],
   "source": [
    "def find_xyz(ind_list, landmark):\n",
    "    a = landmark[ind_list[0]]\n",
    "    b = landmark[ind_list[1]]\n",
    "    c = landmark[ind_list[2]]\n",
    "\n",
    "    first = [a.x,a.y,a.z]\n",
    "    mid = [b.x,b.y,b.z]\n",
    "    end = [c.x,c.y,c.z]\n",
    "    return first, mid, end"
   ],
   "metadata": {
    "collapsed": false,
    "ExecuteTime": {
     "end_time": "2023-11-22T04:08:35.496316100Z",
     "start_time": "2023-11-22T04:08:35.446458Z"
    }
   },
   "id": "c81d34ad041cf960"
  },
  {
   "cell_type": "code",
   "execution_count": 3,
   "outputs": [],
   "source": [
    "def calculate_angle3D(a,b,c,direction):\n",
    "    \"\"\"\n",
    "    calculate_angle3D is divided by left and right side because this function uses external product\n",
    "    input : a,b,c -> landmarks with shape [x,y,z,visibility]\n",
    "            direction -> int -1 or 1\n",
    "                        -1 means Video(photo) for a person's left side and 1 means Video(photo) for a person's right side\n",
    "    output : angle between vector ba and bc with range 0~360\n",
    "    \"\"\"\n",
    "    # external product's z value\n",
    "    external_z = (b[0]-a[0])*(b[1]-c[1]) - (b[1]-a[1])*(b[0]-c[0])\n",
    "\n",
    "    a = np.array(a) #first\n",
    "    b = np.array(b) #mid\n",
    "    c = np.array(c) #end\n",
    "\n",
    "    ba = b-a\n",
    "    bc = b-c\n",
    "    dot_result = np.dot(ba, bc)\n",
    "\n",
    "\n",
    "    ba_size = np.linalg.norm(ba)\n",
    "    bc_size = np.linalg.norm(bc)\n",
    "    radi = np.arccos(dot_result / (ba_size*bc_size))\n",
    "    angle = np.abs(radi*180.0/np.pi)\n",
    "\n",
    "    # left side\n",
    "    if external_z * direction > 0:\n",
    "        angle = 360 - angle\n",
    "\n",
    "    return angle"
   ],
   "metadata": {
    "collapsed": false,
    "ExecuteTime": {
     "end_time": "2023-11-22T04:08:36.866442600Z",
     "start_time": "2023-11-22T04:08:36.820237100Z"
    }
   },
   "id": "initial_id"
  },
  {
   "cell_type": "code",
   "execution_count": null,
   "outputs": [],
   "source": [
    "def calculate_angle2D(a,b,c,direction):\n",
    "    \"\"\"\n",
    "    calculate_angle2D is divided by left and right side because this function uses external product\n",
    "    input : a,b,c -> landmarks with shape [x,y,z,visibility]\n",
    "            direction -> int -1 or 1\n",
    "                        -1 means Video(photo) for a person's left side and 1 means Video(photo) for a person's right side\n",
    "    output : angle between vector ba and bc with range 0~360\n",
    "    \"\"\"\n",
    "    # external product's z value\n",
    "    external_z = (b[0]-a[0])*(b[1]-c[1]) - (b[1]-a[1])*(b[0]-c[0])\n",
    "    \n",
    "    a = np.array(a[:2]) #first\n",
    "    b = np.array(b[:2]) #mid\n",
    "    c = np.array(c[:2]) #end\n",
    "    \n",
    "    ba = b-a\n",
    "    bc = b-c\n",
    "    dot_result = np.dot(ba, bc)\n",
    "    \n",
    "    \n",
    "    ba_size = np.linalg.norm(ba)\n",
    "    bc_size = np.linalg.norm(bc)\n",
    "    radi = np.arccos(dot_result / (ba_size*bc_size))\n",
    "    angle = np.abs(radi*180.0/np.pi)\n",
    "    \n",
    "    if external_z * direction > 0:\n",
    "        angle = 360 - angle\n",
    "\n",
    "    return angle"
   ],
   "metadata": {
    "collapsed": false
   },
   "id": "8fdbdef02aceabd8"
  },
  {
   "cell_type": "code",
   "execution_count": 5,
   "outputs": [
    {
     "ename": "AttributeError",
     "evalue": "module 'mediapipe.python.solutions.pose' has no attribute 'process'",
     "output_type": "error",
     "traceback": [
      "\u001B[1;31m---------------------------------------------------------------------------\u001B[0m",
      "\u001B[1;31mAttributeError\u001B[0m                            Traceback (most recent call last)",
      "\u001B[1;32m~\\AppData\\Local\\Temp\\ipykernel_17336\\3626507926.py\u001B[0m in \u001B[0;36m<module>\u001B[1;34m\u001B[0m\n\u001B[0;32m     47\u001B[0m \u001B[1;33m\u001B[0m\u001B[0m\n\u001B[0;32m     48\u001B[0m     \u001B[0mimage\u001B[0m \u001B[1;33m=\u001B[0m \u001B[0mcv2\u001B[0m\u001B[1;33m.\u001B[0m\u001B[0mcvtColor\u001B[0m\u001B[1;33m(\u001B[0m\u001B[0mframe\u001B[0m\u001B[1;33m,\u001B[0m \u001B[0mcv2\u001B[0m\u001B[1;33m.\u001B[0m\u001B[0mCOLOR_BGR2RGB\u001B[0m\u001B[1;33m)\u001B[0m\u001B[1;33m\u001B[0m\u001B[1;33m\u001B[0m\u001B[0m\n\u001B[1;32m---> 49\u001B[1;33m     \u001B[0mresults\u001B[0m \u001B[1;33m=\u001B[0m \u001B[0mpose\u001B[0m\u001B[1;33m.\u001B[0m\u001B[0mprocess\u001B[0m\u001B[1;33m(\u001B[0m\u001B[0mimage\u001B[0m\u001B[1;33m)\u001B[0m\u001B[1;33m\u001B[0m\u001B[1;33m\u001B[0m\u001B[0m\n\u001B[0m\u001B[0;32m     50\u001B[0m \u001B[1;33m\u001B[0m\u001B[0m\n\u001B[0;32m     51\u001B[0m     \u001B[1;32mif\u001B[0m \u001B[0mresults\u001B[0m\u001B[1;33m.\u001B[0m\u001B[0mpose_landmarks\u001B[0m\u001B[1;33m:\u001B[0m\u001B[1;33m\u001B[0m\u001B[1;33m\u001B[0m\u001B[0m\n",
      "\u001B[1;31mAttributeError\u001B[0m: module 'mediapipe.python.solutions.pose' has no attribute 'process'"
     ]
    }
   ],
   "source": [
    "cap = cv2.VideoCapture(0)\n",
    "mp_drawing = mp.solutions.drawing_utils\n",
    "pose = mp.solutions.pose\n",
    "elbow_state = 'up'\n",
    "Is_start = False\n",
    "\n",
    "# 팔굽혀펴기 1회 측정 시간\n",
    "start = 0\n",
    "end = 0\n",
    "\n",
    "#우측 관절값\n",
    "joint_indx = {'right_elbow':[16,14,12],'right_hip':[12,24,26],'right_knee':[24,26,28]}\n",
    "\n",
    "\"\"\"\n",
    "temp은 팔굽혀펴기 운동을 한번 할떄마다(내려갔다 올라올 때마다) 해당 관절 부분의 각도를 최신화함. 이전에 했던 팔굽혀펴기의 각도값들은 다 초기화함.\n",
    "      -> 앱 상에서 관절 각도값을 저장하는 데에 무리가 가지않게 list를 초기화시켜줌.\n",
    "\"\"\"\n",
    "temp = {'right_elbow':[],'right_hip':[],'right_knee':[]}\n",
    "pushups = []\n",
    "\n",
    "\"\"\"\n",
    "pushups는 list(list)형식이다. 안쪽 list는 length가 5이며 각각 Is_elbow_up, Is_elbow_down, hip_condition, knee_condition, Is_speed_good을 의미한다.\n",
    "Is_elbow_up -> int 0 or 1 -> 팔꿈치를 완전히 펴면 1, 완전히 펴지 않으면 0\n",
    "Is_elbow_down -> int 0 or 1 -> 팔꿈치를 완전히 굽히면 1, 완전히 굽히지 않으면 0\n",
    "hip_condition -> int 0 or 1 or 2 -> 골반이 정상이면 0, 너무 내려가면 1, 너무 올라가면 2\n",
    "knee_condition -> int 1 or 0 -> 무릎 각도가 정상범위면 1, 너무 내려가면 0\n",
    "Is_speed_good -> int 1 or 0 -> 팔굽혀펴기 속도가 적당하면(1회당 1초 이상) 1, 너무 빠르면(1회당 1초 미만) 0 \n",
    "예를 들어, pushup[0]이 [1,0,1,1,1]이면 첫번째 푸쉬업 동작이 올라올 때 팔꿈치를 완전히 폈고, 내려갈때 완전히 팔을 굽히지는 않았으며, 골반은 과도하게 내려갔고,\n",
    "무릎각도는 정상범위이며 속도가 너무 빠르지않다는 의미이다.\n",
    "\"\"\"\n",
    "\n",
    "if cap.isOpened():\n",
    "    width = int(cap.get(cv2.CAP_PROP_FRAME_WIDTH))\n",
    "    height = int(cap.get(cv2.CAP_PROP_FRAME_HEIGHT))\n",
    "\n",
    "    res=(int(width), int(height))\n",
    "    fourcc = cv2.VideoWriter_fourcc(*'MP4V') #codec\n",
    "    out = cv2.VideoWriter('4out353525.mp4', fourcc, 20.0, res)\n",
    "    frame = None\n",
    "while True:\n",
    "    try:\n",
    "        ret, frame = cap.read()\n",
    "    except cv2.error:\n",
    "        continue\n",
    "    if not ret:\n",
    "        break\n",
    "\n",
    "    image = cv2.cvtColor(frame, cv2.COLOR_BGR2RGB)\n",
    "    results = pose.process(image)\n",
    "\n",
    "    if results.pose_landmarks:\n",
    "        mp_drawing.draw_landmarks(frame, results.pose_landmarks, mp_pose.POSE_CONNECTIONS)\n",
    "        landmark = results.pose_landmarks.landmark\n",
    "        for key,val in joint_indx.items():\n",
    "            first,mid,end = find_xyz(val, landmark)\n",
    "            angle = calculate_angle2D(first,mid,end, 1) #각도 계산\n",
    "            mid = mid[0:2]\n",
    "            cv2.putText(frame, str(int(angle)),tuple(np.multiply(mid, [width,height]).astype(int)),cv2.FONT_HERSHEY_SIMPLEX, 1.2, (0,255,0),5,cv2.LINE_AA)\n",
    "            temp[key].append(angle)\n",
    "\n",
    "\n",
    "        ########\n",
    "    \n",
    "    \n",
    "            "
   ],
   "metadata": {
    "collapsed": false,
    "ExecuteTime": {
     "end_time": "2023-11-22T04:12:07.077142800Z",
     "start_time": "2023-11-22T04:12:00.552395200Z"
    }
   },
   "id": "8a3554ecb7b1de8c"
  },
  {
   "cell_type": "code",
   "execution_count": null,
   "outputs": [],
   "source": [],
   "metadata": {
    "collapsed": false
   },
   "id": "f9c23cf80467b10c"
  }
 ],
 "metadata": {
  "kernelspec": {
   "display_name": "Python 3",
   "language": "python",
   "name": "python3"
  },
  "language_info": {
   "codemirror_mode": {
    "name": "ipython",
    "version": 2
   },
   "file_extension": ".py",
   "mimetype": "text/x-python",
   "name": "python",
   "nbconvert_exporter": "python",
   "pygments_lexer": "ipython2",
   "version": "2.7.6"
  }
 },
 "nbformat": 4,
 "nbformat_minor": 5
}
