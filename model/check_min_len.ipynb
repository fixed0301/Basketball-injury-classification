{
 "cells": [
  {
   "cell_type": "code",
   "execution_count": 1,
   "outputs": [],
   "source": [
    "import os\n",
    "import pandas as pd"
   ],
   "metadata": {
    "collapsed": false,
    "ExecuteTime": {
     "end_time": "2023-11-22T09:40:30.697919900Z",
     "start_time": "2023-11-22T09:40:30.516583500Z"
    }
   },
   "id": "47f888fd0860edbb"
  },
  {
   "cell_type": "code",
   "execution_count": 2,
   "outputs": [],
   "source": [
    "def check_length(df):\n",
    "    return len(df)"
   ],
   "metadata": {
    "collapsed": false,
    "ExecuteTime": {
     "end_time": "2023-11-22T09:40:31.484762600Z",
     "start_time": "2023-11-22T09:40:31.476147200Z"
    }
   },
   "id": "9780b2eb5298e91f"
  },
  {
   "cell_type": "code",
   "execution_count": 4,
   "outputs": [
    {
     "name": "stdout",
     "output_type": "stream",
     "text": [
      "max: 554 min: 4\n",
      "[59, 82, 61, 58, 207, 37, 34, 87, 69, 148, 55, 35, 4, 46, 42, 52, 47, 71, 51, 45, 61, 46, 57, 48, 63, 71, 64, 277, 255, 371, 554]\n",
      "['ankle_1.mp4.csv', 'ankle_2.mp4.csv', 'ankle_3.mp4.csv', 'ankle_4.mp4.csv', 'ankle_5.mp4.csv', 'ankle_6.mp4.csv', 'ankle_7.mp4.csv', 'fall_1.mp4.csv', 'fall_2.mp4.csv', 'fall_3.mp4.csv', 'jump_1.mp4.csv', 'jump_10.mp4.csv', 'jump_11.mp4.csv', 'jump_13.mp4.csv', 'jump_14.mp4.csv', 'jump_15.mp4.csv', 'jump_2.mp4.csv', 'jump_3.mp4.csv', 'jump_4.mp4.csv', 'jump_5.mp4.csv', 'jump_6.mp4.csv', 'jump_7.mp4.csv', 'jump_8.mp4.csv', 'jump_9.mp4.csv', 'knee_1.mp4.csv', 'knee_2.mp4.csv', 'knee_3.mp4.csv', 'knee_4.mp4.csv', 'knee_5.mp4.csv', 'run_1.mp4.csv', 'walk_1.mp4.csv']\n"
     ]
    }
   ],
   "source": [
    "folder_path = '../'\n",
    "all_length = []\n",
    "fie = []\n",
    "for file in os.listdir(folder_path):\n",
    "    file_path = os.path.join(folder_path, file)\n",
    "    df = pd.read_csv(file_path)\n",
    "    fie.append(file)\n",
    "    all_length.append(check_length(df))\n",
    "\n",
    "print('max:', max(all_length), 'min:', min(all_length))\n",
    "print(all_length)\n",
    "print(fie)"
   ],
   "metadata": {
    "collapsed": false,
    "ExecuteTime": {
     "end_time": "2023-11-22T09:40:57.023314300Z",
     "start_time": "2023-11-22T09:40:56.937504100Z"
    }
   },
   "id": "initial_id"
  }
 ],
 "metadata": {
  "kernelspec": {
   "display_name": "Python 3",
   "language": "python",
   "name": "python3"
  },
  "language_info": {
   "codemirror_mode": {
    "name": "ipython",
    "version": 2
   },
   "file_extension": ".py",
   "mimetype": "text/x-python",
   "name": "python",
   "nbconvert_exporter": "python",
   "pygments_lexer": "ipython2",
   "version": "2.7.6"
  }
 },
 "nbformat": 4,
 "nbformat_minor": 5
}
