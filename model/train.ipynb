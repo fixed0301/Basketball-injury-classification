{
 "cells": [
  {
   "cell_type": "code",
   "execution_count": 3,
   "outputs": [],
   "source": [
    "import os\n",
    "import random\n",
    "import cv2\n",
    "import pandas as pd\n",
    "import torch\n",
    "import torch.nn as nn\n",
    "import matplotlib.pyplot as plt\n",
    "import mediapipe as mp\n",
    "import numpy as np\n",
    "from torch.optim import Adam\n",
    "from torch.utils.data import Dataset, DataLoader, random_split\n",
    "import tensorflow\n",
    "from tensorflow.python.client import device_lib"
   ],
   "metadata": {
    "collapsed": false,
    "ExecuteTime": {
     "end_time": "2023-11-28T06:31:29.551608300Z",
     "start_time": "2023-11-28T06:31:29.546806800Z"
    }
   },
   "id": "91a24a48c60e7953"
  },
  {
   "cell_type": "code",
   "execution_count": 4,
   "outputs": [
    {
     "data": {
      "text/plain": "False"
     },
     "execution_count": 4,
     "metadata": {},
     "output_type": "execute_result"
    }
   ],
   "source": [
    "torch.cuda.is_available()"
   ],
   "metadata": {
    "collapsed": false,
    "ExecuteTime": {
     "end_time": "2023-11-28T06:31:30.644799400Z",
     "start_time": "2023-11-28T06:31:30.641286600Z"
    }
   },
   "id": "2a6bb59c8c16479c"
  },
  {
   "cell_type": "code",
   "execution_count": 5,
   "outputs": [],
   "source": [
    "def seed_everything(seed: int = 22):\n",
    "       random.seed(seed)\n",
    "       np.random.seed(seed)\n",
    "       # torch.cuda.manual_seed(seed)\n",
    "       # torch.backends.cudnn.deterministic = True\n",
    "seed_everything()"
   ],
   "metadata": {
    "collapsed": false,
    "ExecuteTime": {
     "end_time": "2023-11-28T06:31:33.445908600Z",
     "start_time": "2023-11-28T06:31:33.442405300Z"
    }
   },
   "id": "18a26b6e0c9bac97"
  },
  {
   "cell_type": "code",
   "execution_count": 6,
   "outputs": [],
   "source": [
    "tot_actions = 6\n",
    "actions_name = ['ankle', 'fall', 'jump', 'knee', 'run', 'walk']\n",
    "min_data_len = 35"
   ],
   "metadata": {
    "collapsed": false,
    "ExecuteTime": {
     "end_time": "2023-11-28T06:31:34.933962800Z",
     "start_time": "2023-11-28T06:31:34.930459900Z"
    }
   },
   "id": "initial_id"
  },
  {
   "cell_type": "code",
   "execution_count": 7,
   "outputs": [],
   "source": [
    "actions_csv_dir = 'C:\\\\Users\\\\USER\\Documents\\GitHub\\Basketball-injury-classification\\AI창의융합경진대회\\csv_dataset'\n",
    "dataset = []\n",
    "\n",
    "label_mapping = {'ankle': 0,\n",
    "                 'fall': 1,\n",
    "                 'jump': 2,\n",
    "                 'knee': 3,\n",
    "                 'run' : 4,\n",
    "                 'walk' : 5\n",
    "                 }\n",
    "\n",
    "def map_action_to_label(csv_name):\n",
    "       for action, label in label_mapping.items():\n",
    "              if action in csv_name.split('_')[0]:\n",
    "                     return label\n",
    "       return -1\n",
    "\n",
    "for action_csv in os.listdir(actions_csv_dir):\n",
    "       action_df = pd.read_csv(os.path.join(actions_csv_dir, action_csv))\n",
    "       label = map_action_to_label(action_csv)\n",
    "       if label != -1:\n",
    "              for idx in range(0, len(action_df), int(min_data_len / 2)):\n",
    "                     seq_df = action_df[idx: idx + min_data_len] #길이만큼 데이터 자른 것(즉 length 만큼의 프레임)\n",
    "                     if len(seq_df) == min_data_len: # 딱 length에 개수 맞춰서 끊어서 넣으려고\n",
    "                            dataset.append({'key': label, 'value': seq_df}) # key에 slide, value에는 묶음 프레임 만큼이 담기겠네\n",
    "       #최종적으로 dataset에는 행동별로 dictionary 가 만들어져 들어간다."
   ],
   "metadata": {
    "collapsed": false,
    "ExecuteTime": {
     "end_time": "2023-11-28T06:31:37.433193900Z",
     "start_time": "2023-11-28T06:31:37.346986200Z"
    }
   },
   "id": "20776e1e9089a511"
  },
  {
   "cell_type": "code",
   "execution_count": 8,
   "outputs": [
    {
     "name": "stdout",
     "output_type": "stream",
     "text": [
      "      Nose_x    Nose_y    Nose_z  LEye_in_x  LEye_in_y  LEye_in_z    LEye_x  \\\n",
      "0   0.474492  0.332046 -0.597520   0.489540   0.321691  -0.571477  0.498821   \n",
      "1   0.475332  0.332009 -0.602557   0.490261   0.321646  -0.576985  0.499209   \n",
      "2   0.476175  0.331931 -0.607750   0.491060   0.321550  -0.582352  0.499774   \n",
      "3   0.476764  0.331871 -0.626036   0.491667   0.321356  -0.600991  0.500314   \n",
      "4   0.477602  0.331915 -0.642517   0.492951   0.321351  -0.618014  0.501654   \n",
      "5   0.478491  0.331982 -0.663071   0.494410   0.321382  -0.637403  0.503239   \n",
      "6   0.480438  0.332171 -0.671767   0.496188   0.321463  -0.645974  0.504998   \n",
      "7   0.483270  0.332909 -0.675325   0.498812   0.322056  -0.648876  0.507751   \n",
      "8   0.484854  0.333582 -0.670713   0.500705   0.322824  -0.644379  0.509833   \n",
      "9   0.486051  0.334768 -0.666026   0.501942   0.324210  -0.639405  0.511123   \n",
      "10  0.486912  0.335569 -0.661995   0.502973   0.325242  -0.635611  0.512315   \n",
      "11  0.486973  0.336190 -0.664525   0.503309   0.326036  -0.636916  0.512757   \n",
      "12  0.486918  0.336824 -0.672544   0.503265   0.327010  -0.644084  0.512688   \n",
      "13  0.486891  0.337367 -0.679276   0.503154   0.327813  -0.650898  0.512601   \n",
      "14  0.486590  0.337600 -0.679416   0.503062   0.328229  -0.651019  0.512291   \n",
      "15  0.479935  0.337662 -0.661475   0.497645   0.328622  -0.634877  0.506409   \n",
      "16  0.472773  0.337694 -0.647482   0.490587   0.328981  -0.621856  0.499609   \n",
      "17  0.466012  0.337899 -0.639939   0.483441   0.329382  -0.615021  0.492906   \n",
      "18  0.463181  0.338305 -0.664769   0.480130   0.329876  -0.638958  0.489612   \n",
      "19  0.457644  0.339133 -0.677476   0.473950   0.330328  -0.651828  0.483017   \n",
      "20  0.452382  0.339831 -0.677939   0.468639   0.330645  -0.652295  0.477509   \n",
      "21  0.447327  0.340217 -0.677297   0.463113   0.330855  -0.651307  0.471856   \n",
      "22  0.442317  0.340418 -0.678028   0.457487   0.330915  -0.652732  0.465920   \n",
      "23  0.433044  0.340388 -0.675446   0.447149   0.330885  -0.652337  0.455694   \n",
      "24  0.427494  0.340363 -0.674719   0.441597   0.330861  -0.651603  0.449935   \n",
      "25  0.424512  0.340347 -0.680056   0.438505   0.330840  -0.656395  0.446621   \n",
      "26  0.422184  0.340333 -0.673971   0.436117   0.330823  -0.650353  0.444241   \n",
      "27  0.415216  0.340127 -0.673678   0.428878   0.330671  -0.649847  0.436961   \n",
      "28  0.412700  0.340126 -0.668904   0.426224   0.330660  -0.646907  0.434078   \n",
      "29  0.410528  0.340133 -0.664066   0.424144   0.330665  -0.641256  0.432097   \n",
      "30  0.410102  0.340130 -0.652137   0.423385   0.330666  -0.629516  0.431763   \n",
      "31  0.409190  0.340140 -0.653021   0.422200   0.330755  -0.629790  0.430744   \n",
      "32  0.407161  0.340154 -0.650892   0.420274   0.330835  -0.627535  0.429001   \n",
      "33  0.406817  0.340324 -0.647339   0.419915   0.331074  -0.624708  0.428719   \n",
      "34  0.406420  0.340326 -0.659792   0.419771   0.331081  -0.637113  0.428707   \n",
      "\n",
      "      LEye_y    LEye_z  LEye_out_x  ...   LHeel_z   RHeel_x   RHeel_y  \\\n",
      "0   0.321689 -0.571602    0.505111  ...  0.394484  0.375458  0.807487   \n",
      "1   0.321661 -0.577063    0.506324  ...  0.441980  0.372289  0.810268   \n",
      "2   0.321581 -0.582409    0.507479  ...  0.449107  0.370778  0.811026   \n",
      "3   0.321404 -0.601043    0.508431  ...  0.502312  0.369637  0.811143   \n",
      "4   0.321403 -0.618066    0.510232  ...  0.504417  0.363512  0.809423   \n",
      "5   0.321462 -0.637449    0.512050  ...  0.478337  0.357760  0.805778   \n",
      "6   0.321561 -0.646010    0.513697  ...  0.485199  0.354246  0.803859   \n",
      "7   0.322202 -0.648920    0.515733  ...  0.475713  0.351083  0.801626   \n",
      "8   0.323182 -0.644420    0.517228  ...  0.473094  0.343141  0.800120   \n",
      "9   0.324749 -0.639450    0.518109  ...  0.458719  0.339875  0.800440   \n",
      "10  0.325945 -0.635662    0.518916  ...  0.473569  0.337661  0.800305   \n",
      "11  0.326827 -0.636954    0.519324  ...  0.484309  0.337120  0.799845   \n",
      "12  0.327874 -0.644124    0.519352  ...  0.488864  0.335738  0.799757   \n",
      "13  0.328751 -0.650942    0.519238  ...  0.486901  0.335417  0.796850   \n",
      "14  0.329218 -0.651061    0.519134  ...  0.494868  0.332516  0.793452   \n",
      "15  0.329558 -0.634917    0.514046  ...  0.491173  0.328402  0.791190   \n",
      "16  0.329838 -0.621905    0.507491  ...  0.473179  0.328592  0.793061   \n",
      "17  0.330182 -0.615078    0.501388  ...  0.464316  0.329361  0.794751   \n",
      "18  0.330704 -0.638985    0.498070  ...  0.469638  0.329535  0.794807   \n",
      "19  0.331197 -0.651852    0.491955  ...  0.471429  0.329218  0.795380   \n",
      "20  0.331519 -0.652316    0.486708  ...  0.486133  0.329685  0.795480   \n",
      "21  0.331694 -0.651343    0.481064  ...  0.485783  0.329977  0.795314   \n",
      "22  0.331686 -0.652760    0.475169  ...  0.485238  0.330051  0.795404   \n",
      "23  0.331669 -0.652361    0.464141  ...  0.484435  0.331839  0.795313   \n",
      "24  0.331604 -0.651636    0.458176  ...  0.450502  0.333636  0.796365   \n",
      "25  0.331567 -0.656433    0.455172  ...  0.455449  0.333859  0.797402   \n",
      "26  0.331528 -0.650386    0.453010  ...  0.412967  0.333695  0.797631   \n",
      "27  0.331215 -0.649881    0.445585  ...  0.427133  0.333115  0.798449   \n",
      "28  0.331200 -0.646943    0.442744  ...  0.425524  0.333137  0.800083   \n",
      "29  0.331179 -0.641295    0.440845  ...  0.419258  0.333925  0.800446   \n",
      "30  0.331157 -0.629557    0.440333  ...  0.418903  0.334302  0.800343   \n",
      "31  0.331183 -0.629823    0.439225  ...  0.413043  0.334310  0.799873   \n",
      "32  0.331206 -0.627556    0.437453  ...  0.373244  0.335263  0.799847   \n",
      "33  0.331376 -0.624718    0.436949  ...  0.373907  0.335115  0.799822   \n",
      "34  0.331369 -0.637100    0.436833  ...  0.380751  0.334145  0.798990   \n",
      "\n",
      "     RHeel_z  LFIndex_x  LFIndex_y  LFIndex_z  RFIndex_x  RFIndex_y  RFIndex_z  \n",
      "0   0.450791   0.483611   0.848320   0.121775   0.321818   0.840263   0.200156  \n",
      "1   0.410405   0.484063   0.848214   0.172125   0.322398   0.842208   0.150362  \n",
      "2   0.414495   0.484144   0.848020   0.178407   0.322870   0.843646   0.155032  \n",
      "3   0.453764   0.484143   0.847596   0.233504   0.322502   0.843938   0.193954  \n",
      "4   0.464962   0.483192   0.847239   0.228255   0.321485   0.843422   0.202613  \n",
      "5   0.561476   0.482922   0.847347   0.215024   0.320664   0.842493   0.303874  \n",
      "6   0.516168   0.482854   0.847469   0.204915   0.320135   0.841944   0.263407  \n",
      "7   0.513981   0.482844   0.847641   0.200686   0.318393   0.840209   0.255891  \n",
      "8   0.482560   0.482847   0.848357   0.191259   0.316614   0.839623   0.215220  \n",
      "9   0.452918   0.482853   0.848421   0.173675   0.315757   0.839532   0.187292  \n",
      "10  0.465029   0.482854   0.848393   0.194364   0.313175   0.839338   0.200196  \n",
      "11  0.491029   0.482453   0.848393   0.204871   0.309265   0.838870   0.229206  \n",
      "12  0.473807   0.483213   0.849004   0.210879   0.307744   0.838880   0.208078  \n",
      "13  0.529137   0.485307   0.849279   0.208196   0.307121   0.838585   0.267589  \n",
      "14  0.555215   0.487627   0.849289   0.219752   0.307201   0.837258   0.296675  \n",
      "15  0.562615   0.487485   0.849092   0.218480   0.305425   0.835960   0.306316  \n",
      "16  0.508018   0.488991   0.849485   0.196941   0.301212   0.835843   0.246652  \n",
      "17  0.521564   0.488881   0.849507   0.189020   0.297216   0.835905   0.270952  \n",
      "18  0.556759   0.488920   0.849206   0.189182   0.298003   0.835716   0.300241  \n",
      "19  0.544339   0.489225   0.849393   0.189239   0.298598   0.835752   0.288358  \n",
      "20  0.545979   0.489699   0.849208   0.200072   0.299458   0.835007   0.287442  \n",
      "21  0.540915   0.489655   0.849178   0.196139   0.300165   0.834843   0.282692  \n",
      "22  0.542458   0.489755   0.849303   0.195893   0.301977   0.834875   0.281575  \n",
      "23  0.567948   0.490933   0.849212   0.195819   0.303176   0.834898   0.310844  \n",
      "24  0.565415   0.492222   0.849191   0.161282   0.302900   0.834921   0.301107  \n",
      "25  0.568470   0.492281   0.849253   0.166573   0.302725   0.835226   0.311953  \n",
      "26  0.521151   0.492974   0.849251   0.128231   0.302771   0.835239   0.271066  \n",
      "27  0.529835   0.495813   0.849247   0.143380   0.302787   0.835169   0.286532  \n",
      "28  0.567706   0.496537   0.849248   0.142575   0.301622   0.835416   0.327801  \n",
      "29  0.556237   0.496996   0.849150   0.137504   0.301730   0.835550   0.327015  \n",
      "30  0.538303   0.497849   0.849045   0.138133   0.303442   0.835460   0.302108  \n",
      "31  0.505483   0.499446   0.848718   0.129974   0.305980   0.836136   0.253317  \n",
      "32  0.506644   0.500214   0.848601   0.094079   0.308026   0.835723   0.259230  \n",
      "33  0.495304   0.501788   0.848522   0.096595   0.307951   0.835728   0.249598  \n",
      "34  0.546984   0.504826   0.848373   0.099091   0.307941   0.835866   0.296298  \n",
      "\n",
      "[35 rows x 99 columns]\n"
     ]
    }
   ],
   "source": [
    "print(dataset[0]['value']) # z축 까지 99 (33 * 3)차원"
   ],
   "metadata": {
    "collapsed": false,
    "ExecuteTime": {
     "end_time": "2023-11-28T06:31:38.991834Z",
     "start_time": "2023-11-28T06:31:38.990331700Z"
    }
   },
   "id": "d656657e15c7e45f"
  },
  {
   "cell_type": "code",
   "execution_count": 9,
   "outputs": [],
   "source": [
    "class MyDataset(Dataset):\n",
    "       def __init__(self, dataset): #모든 행동을 통합한 df가 들어가야함\n",
    "              self.x = []\n",
    "              self.y = []\n",
    "              for dic in dataset:\n",
    "                     self.y.append(dic['key']) #key 값에는 actions 들어감\n",
    "                     self.x.append(dic['value']) #action마다의 data 들어감\n",
    "\n",
    "       def __getitem__(self, index): #index는 행동의 index\n",
    "              data = self.x[index] # x에는 꺼내 쓸 (행동마다 45개 묶음프레임)의 데이터\n",
    "              label = self.y[index]\n",
    "              return torch.Tensor(np.array(data)), torch.tensor(np.array(int(label)))\n",
    "\n",
    "       def __len__(self):\n",
    "              return len(self.x)\n"
   ],
   "metadata": {
    "collapsed": false,
    "ExecuteTime": {
     "end_time": "2023-11-28T06:31:42.423497Z",
     "start_time": "2023-11-28T06:31:42.418398300Z"
    }
   },
   "id": "f6106f1224437afe"
  },
  {
   "cell_type": "code",
   "execution_count": 11,
   "outputs": [
    {
     "name": "stdout",
     "output_type": "stream",
     "text": [
      "140\n",
      "112, 14, 14\n"
     ]
    }
   ],
   "source": [
    "train_test_val_ratio = [0.8, 0.1, 0.1]\n",
    "print(len(dataset))\n",
    "train_len = int(len(dataset) * train_test_val_ratio[0])\n",
    "val_len = int(len(dataset) * train_test_val_ratio[1])\n",
    "test_len = len(dataset) - train_len - val_len\n",
    "print('{}, {}, {}'.format(train_len, val_len, test_len))"
   ],
   "metadata": {
    "collapsed": false,
    "ExecuteTime": {
     "end_time": "2023-11-28T06:35:41.077494700Z",
     "start_time": "2023-11-28T06:35:41.073493400Z"
    }
   },
   "id": "ba330d25c6c6f524"
  },
  {
   "cell_type": "code",
   "execution_count": 12,
   "outputs": [],
   "source": [
    "CFG = {'batch_size': 8,\n",
    "       'learning_rate': 2e-2,\n",
    "       'seed': 22,\n",
    "       'epochs': 20     \n",
    "}"
   ],
   "metadata": {
    "collapsed": false,
    "ExecuteTime": {
     "end_time": "2023-11-28T06:35:42.080034900Z",
     "start_time": "2023-11-28T06:35:42.075531100Z"
    }
   },
   "id": "14d2065c8d4dc0c6"
  },
  {
   "cell_type": "code",
   "execution_count": 13,
   "outputs": [],
   "source": [
    "train_dataset = MyDataset(dataset)\n",
    "train_data, valid_data, test_data = random_split(train_dataset, [train_len, val_len, test_len])\n",
    "\n",
    "train_loader = DataLoader(train_data, batch_size=CFG['batch_size'])\n",
    "val_loader = DataLoader(valid_data, batch_size=CFG['batch_size'])\n",
    "test_loader = DataLoader(test_data, batch_size=CFG['batch_size'])"
   ],
   "metadata": {
    "collapsed": false,
    "ExecuteTime": {
     "end_time": "2023-11-28T06:35:42.738280800Z",
     "start_time": "2023-11-28T06:35:42.720372Z"
    }
   },
   "id": "9fa7ab00e37041cc"
  },
  {
   "cell_type": "code",
   "execution_count": 14,
   "outputs": [],
   "source": [
    "from sklearn.utils import shuffle\n",
    "\n",
    "def shuffle_dataset(lm_list, label_list):\n",
    "       lm_list, label_list = shuffle(lm_list, label_list, random_state=22)\n",
    "       return lm_list, label_list"
   ],
   "metadata": {
    "collapsed": false,
    "ExecuteTime": {
     "end_time": "2023-11-28T06:35:45.192353600Z",
     "start_time": "2023-11-28T06:35:44.727278200Z"
    }
   },
   "id": "c7be83410625fd04"
  },
  {
   "cell_type": "code",
   "execution_count": 15,
   "outputs": [],
   "source": [
    "class Model(nn.Module):\n",
    "       def __init__(self):\n",
    "              super(Model, self).__init__()\n",
    "              self.hidden_size=128\n",
    "              self.lstm = nn.LSTM(input_size=99, hidden_size=128, batch_first=True)\n",
    "              self.fc = nn.Linear(128, 6)\n",
    "              # self.lstm1 = nn.LSTM(input_size=99, hidden_size=128, num_layers=1, batch_first=True) \n",
    "              # self.lstm2 = nn.LSTM(input_size=128, hidden_size=256, num_layers=1, batch_first=True)\n",
    "              # self.lstm3 = nn.LSTM(input_size=256, hidden_size=512, num_layers=1, batch_first=True)\n",
    "              # self.dropout1 = nn.Dropout(0, 1)\n",
    "              # self.lstm4 = nn.LSTM(input_size=512, hidden_size=256, num_layers=1, batch_first=True)\n",
    "              # self.lstm5 = nn.LSTM(input_size=256, hidden_size=128, num_layers=1, batch_first=True)\n",
    "              # self.lstm6 = nn.LSTM(input_size=128, hidden_size=64, num_layers=1, batch_first=True)\n",
    "              # self.dropout2 = nn.Dropout(0, 1)\n",
    "              # self.lstm7 = nn.LSTM(input_size=64, hidden_size=32, num_layers=1, batch_first=True)\n",
    "              # self.fc = nn.Linear(32, 5) #분류할 클래스 5가지\n",
    "\n",
    "       def forward(self, x):\n",
    "              h0 = torch.zeros(1, x.size(0), self.hidden_size).to(x.device)\n",
    "              c0 = torch.zeros(1, x.size(0), self.hidden_size).to(x.device)\n",
    "              out, _ = self.lstm(0, (h0, c0))\n",
    "              out = self.fc(out[:,-1, -1])\n",
    "              out = nn.functional.softmax(out, dim=1)\n",
    "              # x, _ = self.lstm1(x)\n",
    "              # x, _ = self.lstm2(x)\n",
    "              # x, _ = self.lstm3(x)\n",
    "              # x = self.dropout1(x)\n",
    "              # x, _ = self.lstm4(x)\n",
    "              # x, _ = self.lstm5(x)\n",
    "              # x, _ = self.lstm6(x)\n",
    "              # x = self.dropout2(x)\n",
    "              # x, _ = self.lstm7(x)\n",
    "              # x = self.fc(x[:, -1, :])\n",
    "              return x"
   ],
   "metadata": {
    "collapsed": false,
    "ExecuteTime": {
     "end_time": "2023-11-28T06:35:46.276954Z",
     "start_time": "2023-11-28T06:35:46.275952100Z"
    }
   },
   "id": "d712906be6495443"
  },
  {
   "cell_type": "code",
   "execution_count": 16,
   "outputs": [],
   "source": [
    "class Model(nn.Module):\n",
    "       def __init__(self):\n",
    "              super(Model, self).__init__()\n",
    "              self.recurrent_layer = nn.LSTM(hidden_size=100, input_size=99,  bidirectional=True)\n",
    "\n",
    "              self.nonLin = nn.BatchNorm1d(35)\n",
    "              self.recurrent_layer2 = nn.LSTM(hidden_size=100, input_size=200, bidirectional=True)\n",
    "              self.nonLin2 = nn.BatchNorm1d(35)\n",
    "              self.conv = nn.Conv1d(35,36,7,1)\n",
    "              self.relu1 = nn.Softmax()\n",
    "              self.classify_layer = nn.Linear(194, 6)\n",
    "\n",
    "       # the size of input is [batch_size, seq_len(15), input_dim(75)]\n",
    "       # the size of logits is [batch_size, num_class]\n",
    "       def forward(self, input, h_t_1=None, c_t_1=None):\n",
    "              # the size of rnn_outputs is [batch_size, seq_len, rnn_size]\n",
    "              rnn_outputs, (hn, cn) = self.recurrent_layer(input)\n",
    "              lin1 = self.nonLin(rnn_outputs)\n",
    "\n",
    "              rnn_outputs2, (hn2, cn2) = self.recurrent_layer2(lin1)\n",
    "\n",
    "              lin2 = self.nonLin2(rnn_outputs2)\n",
    "              conv = self.conv(lin2)\n",
    "              relu = self.relu1(conv)\n",
    "\n",
    "              logits = self.classify_layer(relu[:,-1])\n",
    "              return logits\n"
   ],
   "metadata": {
    "collapsed": false,
    "ExecuteTime": {
     "end_time": "2023-11-28T06:35:49.062571Z",
     "start_time": "2023-11-28T06:35:49.059693300Z"
    }
   },
   "id": "19844f8477cf9c27"
  },
  {
   "cell_type": "code",
   "execution_count": 20,
   "outputs": [
    {
     "ename": "AttributeError",
     "evalue": "'int' object has no attribute 'size'",
     "output_type": "error",
     "traceback": [
      "\u001B[1;31m---------------------------------------------------------------------------\u001B[0m",
      "\u001B[1;31mAttributeError\u001B[0m                            Traceback (most recent call last)",
      "Cell \u001B[1;32mIn[20], line 4\u001B[0m\n\u001B[0;32m      2\u001B[0m \u001B[38;5;28;01mimport\u001B[39;00m \u001B[38;5;21;01mtorch\u001B[39;00m\n\u001B[0;32m      3\u001B[0m model \u001B[38;5;241m=\u001B[39m Model()\n\u001B[1;32m----> 4\u001B[0m make_dot((\u001B[38;5;241m1\u001B[39m, \u001B[38;5;241m2\u001B[39m, \u001B[38;5;241m3\u001B[39m), params\u001B[38;5;241m=\u001B[39m\u001B[38;5;28mdict\u001B[39m(model\u001B[38;5;241m.\u001B[39mnamed_parameters()))\n",
      "File \u001B[1;32m~\\anaconda3\\Lib\\site-packages\\torchviz\\dot.py:161\u001B[0m, in \u001B[0;36mmake_dot\u001B[1;34m(var, params, show_attrs, show_saved, max_attr_chars)\u001B[0m\n\u001B[0;32m    159\u001B[0m \u001B[38;5;28;01mif\u001B[39;00m \u001B[38;5;28misinstance\u001B[39m(var, \u001B[38;5;28mtuple\u001B[39m):\n\u001B[0;32m    160\u001B[0m     \u001B[38;5;28;01mfor\u001B[39;00m v \u001B[38;5;129;01min\u001B[39;00m var:\n\u001B[1;32m--> 161\u001B[0m         add_base_tensor(v)\n\u001B[0;32m    162\u001B[0m \u001B[38;5;28;01melse\u001B[39;00m:\n\u001B[0;32m    163\u001B[0m     add_base_tensor(var)\n",
      "File \u001B[1;32m~\\anaconda3\\Lib\\site-packages\\torchviz\\dot.py:149\u001B[0m, in \u001B[0;36mmake_dot.<locals>.add_base_tensor\u001B[1;34m(var, color)\u001B[0m\n\u001B[0;32m    147\u001B[0m     \u001B[38;5;28;01mreturn\u001B[39;00m\n\u001B[0;32m    148\u001B[0m seen\u001B[38;5;241m.\u001B[39madd(var)\n\u001B[1;32m--> 149\u001B[0m dot\u001B[38;5;241m.\u001B[39mnode(\u001B[38;5;28mstr\u001B[39m(\u001B[38;5;28mid\u001B[39m(var)), get_var_name(var), fillcolor\u001B[38;5;241m=\u001B[39mcolor)\n\u001B[0;32m    150\u001B[0m \u001B[38;5;28;01mif\u001B[39;00m (var\u001B[38;5;241m.\u001B[39mgrad_fn):\n\u001B[0;32m    151\u001B[0m     add_nodes(var\u001B[38;5;241m.\u001B[39mgrad_fn)\n",
      "File \u001B[1;32m~\\anaconda3\\Lib\\site-packages\\torchviz\\dot.py:94\u001B[0m, in \u001B[0;36mmake_dot.<locals>.get_var_name\u001B[1;34m(var, name)\u001B[0m\n\u001B[0;32m     92\u001B[0m \u001B[38;5;28;01mif\u001B[39;00m \u001B[38;5;129;01mnot\u001B[39;00m name:\n\u001B[0;32m     93\u001B[0m     name \u001B[38;5;241m=\u001B[39m param_map[\u001B[38;5;28mid\u001B[39m(var)] \u001B[38;5;28;01mif\u001B[39;00m \u001B[38;5;28mid\u001B[39m(var) \u001B[38;5;129;01min\u001B[39;00m param_map \u001B[38;5;28;01melse\u001B[39;00m \u001B[38;5;124m'\u001B[39m\u001B[38;5;124m'\u001B[39m\n\u001B[1;32m---> 94\u001B[0m \u001B[38;5;28;01mreturn\u001B[39;00m \u001B[38;5;124m'\u001B[39m\u001B[38;5;132;01m%s\u001B[39;00m\u001B[38;5;130;01m\\n\u001B[39;00m\u001B[38;5;124m \u001B[39m\u001B[38;5;132;01m%s\u001B[39;00m\u001B[38;5;124m'\u001B[39m \u001B[38;5;241m%\u001B[39m (name, size_to_str(var\u001B[38;5;241m.\u001B[39msize()))\n",
      "\u001B[1;31mAttributeError\u001B[0m: 'int' object has no attribute 'size'"
     ]
    }
   ],
   "source": [
    "from torchviz import make_dot\n",
    "import torch\n",
    "model = Model()\n",
    "make_dot((1, 2, 3), params=dict(model.named_parameters()))\n",
    "\n"
   ],
   "metadata": {
    "collapsed": false,
    "ExecuteTime": {
     "end_time": "2023-11-28T06:38:51.429952100Z",
     "start_time": "2023-11-28T06:38:51.389554500Z"
    }
   },
   "id": "e62c9ee64fae6ec1"
  },
  {
   "cell_type": "code",
   "execution_count": 17,
   "outputs": [
    {
     "name": "stdout",
     "output_type": "stream",
     "text": [
      "torch.Size([8, 35, 99])\n"
     ]
    }
   ],
   "source": [
    "# for data, label in test_loader:\n",
    "#        print('data:', len(data)) # 배치만큼 출력하니까 'data: .  8.. '\n",
    "d = []\n",
    "l = []\n",
    "for data, label in test_loader:\n",
    "       d.append(data)\n",
    "       l.append(label)\n",
    "print(d[0].shape) # 8개 잡은 배치, 45개 seqence 길이, 99 차원"
   ],
   "metadata": {
    "collapsed": false,
    "ExecuteTime": {
     "end_time": "2023-11-22T09:43:17.267647300Z",
     "start_time": "2023-11-22T09:43:17.233265200Z"
    }
   },
   "id": "8883e47fa66b3b43"
  },
  {
   "cell_type": "code",
   "execution_count": 22,
   "outputs": [
    {
     "name": "stderr",
     "output_type": "stream",
     "text": [
      "C:\\Users\\USER\\anaconda3\\envs\\py39\\lib\\site-packages\\torch\\nn\\modules\\module.py:1518: UserWarning: Implicit dimension choice for softmax has been deprecated. Change the call to include dim=X as an argument.\n",
      "  return self._call_impl(*args, **kwargs)\n"
     ]
    },
    {
     "name": "stdout",
     "output_type": "stream",
     "text": [
      "Epoch: 0 - valid Loss: 1.970374 - valid_acc : 0.145833\n",
      "Epoch: 1 - valid Loss: 1.427352 - valid_acc : 0.562500\n",
      "Epoch: 2 - valid Loss: 1.364425 - valid_acc : 0.312500\n",
      "Epoch: 3 - valid Loss: 1.364069 - valid_acc : 0.520833\n",
      "Epoch: 4 - valid Loss: 1.354587 - valid_acc : 0.583333\n",
      "Epoch: 5 - valid Loss: 1.318299 - valid_acc : 0.645833\n",
      "model save, model val acc :  0.6458333432674408\n",
      "Epoch: 6 - valid Loss: 1.297680 - valid_acc : 0.583333\n",
      "Epoch: 7 - valid Loss: 1.253034 - valid_acc : 0.562500\n",
      "Epoch: 8 - valid Loss: 1.292185 - valid_acc : 0.750000\n",
      "model save, model val acc :  0.75\n",
      "Epoch: 9 - valid Loss: 1.281536 - valid_acc : 0.666667\n",
      "Epoch: 10 - valid Loss: 1.215341 - valid_acc : 0.687500\n",
      "Epoch: 11 - valid Loss: 1.302242 - valid_acc : 0.583333\n",
      "Epoch: 12 - valid Loss: 1.241847 - valid_acc : 0.520833\n",
      "Epoch: 13 - valid Loss: 1.378567 - valid_acc : 0.666667\n",
      "Epoch: 14 - valid Loss: 1.216605 - valid_acc : 0.604167\n",
      "Epoch: 15 - valid Loss: 1.279258 - valid_acc : 0.458333\n",
      "Epoch: 16 - valid Loss: 1.314308 - valid_acc : 0.541667\n",
      "Epoch: 17 - valid Loss: 1.484823 - valid_acc : 0.479167\n",
      "Epoch: 18 - valid Loss: 1.182685 - valid_acc : 0.541667\n",
      "Epoch: 19 - valid Loss: 1.371508 - valid_acc : 0.541667\n",
      "Train finished, best_models size :  2\n"
     ]
    },
    {
     "data": {
      "text/plain": "<Figure size 1000x500 with 1 Axes>",
      "image/png": "[encoded data removed]"
     },
     "metadata": {},
     "output_type": "display_data"
    },
    {
     "data": {
      "text/plain": "<Figure size 1000x500 with 1 Axes>",
      "image/png": "[encoded data removed]"
     },
     "metadata": {},
     "output_type": "display_data"
    }
   ],
   "source": [
    "num_epochs = CFG['epochs']\n",
    "best_models = []  # 폴드별로 가장 validation acc가 높은 모델 저장\n",
    "\n",
    "model = Model()\n",
    "optimizer = torch.optim.Adam(model.parameters(), lr=CFG['learning_rate'])\n",
    "criterion = nn.CrossEntropyLoss()\n",
    "lr_scheduler = torch.optim.lr_scheduler.StepLR(optimizer,\n",
    "                                               step_size=5,\n",
    "                                               gamma=0.9)  # learning rate scheduler 로 학습률 주기적 감소\n",
    "\n",
    "val_acc_max = 0.6\n",
    "val_loss_min = 0.3\n",
    "\n",
    "# Lists to store training and validation metrics for each epoch\n",
    "train_loss_history = []\n",
    "val_loss_history = []\n",
    "val_acc_history = []\n",
    "\n",
    "for epoch in range(num_epochs):\n",
    "       train_loss_list = []\n",
    "       val_loss_list = []\n",
    "       val_acc_list = []\n",
    "\n",
    "       # 모델 학습\n",
    "       for i, (images, targets) in enumerate(train_loader):\n",
    "              model.train()\n",
    "\n",
    "              optimizer.zero_grad()\n",
    "              outputs = model(images)\n",
    "\n",
    "              targets = targets.long()\n",
    "              loss = criterion(outputs, targets)\n",
    "              loss.backward()\n",
    "              optimizer.step()\n",
    "\n",
    "              train_loss_list.append(loss.item())\n",
    "\n",
    "              if (i + 1) % 20 == 0:\n",
    "                     print(f'Epoch: {epoch} - Loss: {loss:.6f}')\n",
    "\n",
    "       train_loss = np.mean(train_loss_list)\n",
    "\n",
    "       # 모델 검증\n",
    "       for i, (images, targets) in enumerate(val_loader):\n",
    "              model.eval()\n",
    "\n",
    "              with torch.no_grad():\n",
    "                     outputs = model(images)\n",
    "\n",
    "                     targets = targets.long()\n",
    "\n",
    "                     val_loss = criterion(outputs, targets)\n",
    "\n",
    "                     preds = torch.argmax(outputs, dim=1)\n",
    "\n",
    "                     batch_acc = (preds == targets).float().mean()  # boolean 값의 평균\n",
    "\n",
    "                     val_loss_list.append(val_loss.item())\n",
    "                     val_acc_list.append(batch_acc.item())\n",
    "\n",
    "       val_loss = np.mean(val_loss_list)\n",
    "       val_acc = np.mean(val_acc_list)\n",
    "\n",
    "       # Append metrics to the history lists\n",
    "       train_loss_history.append(train_loss)\n",
    "       val_loss_history.append(val_loss)\n",
    "       val_acc_history.append(val_acc)\n",
    "\n",
    "       print(f'Epoch: {epoch} - valid Loss: {val_loss:.6f} - valid_acc : {val_acc:.6f}')\n",
    "\n",
    "       # val에서의 정확도 기준 모델 저장\n",
    "       if val_acc_max < val_acc:\n",
    "              val_acc_max = val_acc\n",
    "              best_models.append(model)\n",
    "              print('model save, model val acc : ', val_acc)\n",
    "\n",
    "       # if val_loss_min > val_loss:\n",
    "       #        val_loss_min = val_loss\n",
    "\n",
    "       lr_scheduler.step()\n",
    "\n",
    "print('Train finished, best_models size : ', len(best_models))\n",
    "\n",
    "# Plotting the training and validation loss\n",
    "plt.figure(figsize=(10, 5))\n",
    "plt.plot(train_loss_history, label='Training Loss')\n",
    "plt.plot(val_loss_history, label='Validation Loss')\n",
    "plt.xlabel('Epoch')\n",
    "plt.ylabel('Loss')\n",
    "plt.title('Training and Validation Loss over Epochs')\n",
    "plt.legend()\n",
    "plt.show()\n",
    "\n",
    "# Plotting the validation accuracy\n",
    "plt.figure(figsize=(10, 5))\n",
    "plt.plot(val_acc_history, label='Validation Accuracy')\n",
    "plt.xlabel('Epoch')\n",
    "plt.ylabel('Accuracy')\n",
    "plt.title('Validation Accuracy over Epochs')\n",
    "plt.legend()\n",
    "plt.show()\n"
   ],
   "metadata": {
    "collapsed": false,
    "ExecuteTime": {
     "end_time": "2023-11-22T09:45:03.926387600Z",
     "start_time": "2023-11-22T09:44:58.778471800Z"
    }
   },
   "id": "b9947d7a88e17ad6"
  },
  {
   "cell_type": "code",
   "execution_count": 30,
   "outputs": [
    {
     "name": "stdout",
     "output_type": "stream",
     "text": [
      "asdf\n",
      "asdf\n",
      "Saved 2 models to C:\\Users\\USER\\Documents\\GitHub\\Basketball-injury-classification\\AI창의융합경진대회\\saved_models\\\n"
     ]
    }
   ],
   "source": [
    "save_directory = 'C:\\\\Users\\\\USER\\Documents\\GitHub\\Basketball-injury-classification\\AI창의융합경진대회\\\\saved_models\\\\'\n",
    "\n",
    "\n",
    "for i, model in enumerate(best_models):\n",
    "       model_filename = f\"best_model_{i}.pth\"\n",
    "       model_path = save_directory + model_filename\n",
    "       torch.save(model.state_dict(), model_path)\n",
    "       print('asdf')\n",
    "\n",
    "print(f\"Saved {len(best_models)} models to {save_directory}\")\n"
   ],
   "metadata": {
    "collapsed": false,
    "ExecuteTime": {
     "end_time": "2023-11-22T09:48:00.921128300Z",
     "start_time": "2023-11-22T09:48:00.785581900Z"
    }
   },
   "id": "61322c2e9c6b0743"
  },
  {
   "cell_type": "code",
   "execution_count": 25,
   "outputs": [
    {
     "data": {
      "text/plain": "<Figure size 1000x500 with 1 Axes>",
      "image/png": "[encoded data removed]"
     },
     "metadata": {},
     "output_type": "display_data"
    }
   ],
   "source": [
    "import matplotlib.pyplot as plt\n",
    "\n",
    "# Validation accuracy values\n",
    "val_acc_values = [0.708333, 0.777778, 0.75, 0.722222, 0.680556, 0.708333,\n",
    "                  0.736111, 0.708333, 0.75, 0.708333, 0.736111, 0.791667,\n",
    "                  0.666667, 0.625, 0.680556, 0.722222, 0.763889, 0.819444,\n",
    "                  0.777778, 0.75]\n",
    "\n",
    "# Plotting the validation accuracy over epochs\n",
    "plt.figure(figsize=(10, 5))\n",
    "plt.plot(val_acc_values, label='Validation Accuracy', marker='o')\n",
    "plt.title('Validation Accuracy over Epochs')\n",
    "plt.xlabel('Epoch')\n",
    "plt.ylabel('Accuracy')\n",
    "plt.legend()\n",
    "plt.show()\n"
   ],
   "metadata": {
    "collapsed": false,
    "ExecuteTime": {
     "end_time": "2023-11-21T06:37:14.498386700Z",
     "start_time": "2023-11-21T06:37:14.260007100Z"
    }
   },
   "id": "4266808df860ac66"
  },
  {
   "cell_type": "code",
   "execution_count": null,
   "outputs": [],
   "source": [
    "# 정확도 검증\n",
    "for m in best_models:\n",
    "       with torch.no_grad():\n",
    "              test_loss, test_acc = epoch(test_loader, mode='test')\n",
    "              test_acc = round(test_acc, 4)\n",
    "              test_loss = round(test_loss, 4)\n",
    "              print('Test Acc.: {}'.format(test_acc))\n",
    "              print('Test Loss: {}'.format(test_loss))\n"
   ],
   "metadata": {
    "collapsed": false
   },
   "id": "2043856aefa7c707"
  },
  {
   "cell_type": "code",
   "execution_count": 31,
   "outputs": [
    {
     "ename": "FileNotFoundError",
     "evalue": "[Errno 2] No such file or directory: 'C:\\\\Users\\\\USER\\\\Documents\\\\GitHub\\\\Basketball-injury-classification\\\\AI창의융합경진대회\\\\saved_models\\\\best_model_fold_0.pth'",
     "output_type": "error",
     "traceback": [
      "\u001B[1;31m---------------------------------------------------------------------------\u001B[0m",
      "\u001B[1;31mFileNotFoundError\u001B[0m                         Traceback (most recent call last)",
      "Cell \u001B[1;32mIn[31], line 22\u001B[0m\n\u001B[0;32m     20\u001B[0m model_filename \u001B[38;5;241m=\u001B[39m \u001B[38;5;124mf\u001B[39m\u001B[38;5;124m\"\u001B[39m\u001B[38;5;124mbest_model_fold_\u001B[39m\u001B[38;5;132;01m{\u001B[39;00mi\u001B[38;5;132;01m}\u001B[39;00m\u001B[38;5;124m.pth\u001B[39m\u001B[38;5;124m\"\u001B[39m\n\u001B[0;32m     21\u001B[0m model_path \u001B[38;5;241m=\u001B[39m load_directory \u001B[38;5;241m+\u001B[39m model_filename\n\u001B[1;32m---> 22\u001B[0m model \u001B[38;5;241m=\u001B[39m \u001B[43mload_model\u001B[49m\u001B[43m(\u001B[49m\u001B[43mmodel\u001B[49m\u001B[43m,\u001B[49m\u001B[43m \u001B[49m\u001B[43mmodel_path\u001B[49m\u001B[43m)\u001B[49m\n\u001B[0;32m     24\u001B[0m \u001B[38;5;66;03m# Test the model on the test set\u001B[39;00m\n\u001B[0;32m     25\u001B[0m correct \u001B[38;5;241m=\u001B[39m \u001B[38;5;241m0\u001B[39m\n",
      "Cell \u001B[1;32mIn[31], line 2\u001B[0m, in \u001B[0;36mload_model\u001B[1;34m(model, filepath)\u001B[0m\n\u001B[0;32m      1\u001B[0m \u001B[38;5;28;01mdef\u001B[39;00m \u001B[38;5;21mload_model\u001B[39m(model, filepath):\n\u001B[1;32m----> 2\u001B[0m        model\u001B[38;5;241m.\u001B[39mload_state_dict(\u001B[43mtorch\u001B[49m\u001B[38;5;241;43m.\u001B[39;49m\u001B[43mload\u001B[49m\u001B[43m(\u001B[49m\u001B[43mfilepath\u001B[49m\u001B[43m)\u001B[49m)\n\u001B[0;32m      3\u001B[0m        model\u001B[38;5;241m.\u001B[39meval()\n\u001B[0;32m      4\u001B[0m        \u001B[38;5;28;01mreturn\u001B[39;00m model\n",
      "File \u001B[1;32m~\\anaconda3\\envs\\py39\\lib\\site-packages\\torch\\serialization.py:986\u001B[0m, in \u001B[0;36mload\u001B[1;34m(f, map_location, pickle_module, weights_only, mmap, **pickle_load_args)\u001B[0m\n\u001B[0;32m    983\u001B[0m \u001B[38;5;28;01mif\u001B[39;00m \u001B[38;5;124m'\u001B[39m\u001B[38;5;124mencoding\u001B[39m\u001B[38;5;124m'\u001B[39m \u001B[38;5;129;01mnot\u001B[39;00m \u001B[38;5;129;01min\u001B[39;00m pickle_load_args\u001B[38;5;241m.\u001B[39mkeys():\n\u001B[0;32m    984\u001B[0m     pickle_load_args[\u001B[38;5;124m'\u001B[39m\u001B[38;5;124mencoding\u001B[39m\u001B[38;5;124m'\u001B[39m] \u001B[38;5;241m=\u001B[39m \u001B[38;5;124m'\u001B[39m\u001B[38;5;124mutf-8\u001B[39m\u001B[38;5;124m'\u001B[39m\n\u001B[1;32m--> 986\u001B[0m \u001B[38;5;28;01mwith\u001B[39;00m \u001B[43m_open_file_like\u001B[49m\u001B[43m(\u001B[49m\u001B[43mf\u001B[49m\u001B[43m,\u001B[49m\u001B[43m \u001B[49m\u001B[38;5;124;43m'\u001B[39;49m\u001B[38;5;124;43mrb\u001B[39;49m\u001B[38;5;124;43m'\u001B[39;49m\u001B[43m)\u001B[49m \u001B[38;5;28;01mas\u001B[39;00m opened_file:\n\u001B[0;32m    987\u001B[0m     \u001B[38;5;28;01mif\u001B[39;00m _is_zipfile(opened_file):\n\u001B[0;32m    988\u001B[0m         \u001B[38;5;66;03m# The zipfile reader is going to advance the current file position.\u001B[39;00m\n\u001B[0;32m    989\u001B[0m         \u001B[38;5;66;03m# If we want to actually tail call to torch.jit.load, we need to\u001B[39;00m\n\u001B[0;32m    990\u001B[0m         \u001B[38;5;66;03m# reset back to the original position.\u001B[39;00m\n\u001B[0;32m    991\u001B[0m         orig_position \u001B[38;5;241m=\u001B[39m opened_file\u001B[38;5;241m.\u001B[39mtell()\n",
      "File \u001B[1;32m~\\anaconda3\\envs\\py39\\lib\\site-packages\\torch\\serialization.py:435\u001B[0m, in \u001B[0;36m_open_file_like\u001B[1;34m(name_or_buffer, mode)\u001B[0m\n\u001B[0;32m    433\u001B[0m \u001B[38;5;28;01mdef\u001B[39;00m \u001B[38;5;21m_open_file_like\u001B[39m(name_or_buffer, mode):\n\u001B[0;32m    434\u001B[0m     \u001B[38;5;28;01mif\u001B[39;00m _is_path(name_or_buffer):\n\u001B[1;32m--> 435\u001B[0m         \u001B[38;5;28;01mreturn\u001B[39;00m \u001B[43m_open_file\u001B[49m\u001B[43m(\u001B[49m\u001B[43mname_or_buffer\u001B[49m\u001B[43m,\u001B[49m\u001B[43m \u001B[49m\u001B[43mmode\u001B[49m\u001B[43m)\u001B[49m\n\u001B[0;32m    436\u001B[0m     \u001B[38;5;28;01melse\u001B[39;00m:\n\u001B[0;32m    437\u001B[0m         \u001B[38;5;28;01mif\u001B[39;00m \u001B[38;5;124m'\u001B[39m\u001B[38;5;124mw\u001B[39m\u001B[38;5;124m'\u001B[39m \u001B[38;5;129;01min\u001B[39;00m mode:\n",
      "File \u001B[1;32m~\\anaconda3\\envs\\py39\\lib\\site-packages\\torch\\serialization.py:416\u001B[0m, in \u001B[0;36m_open_file.__init__\u001B[1;34m(self, name, mode)\u001B[0m\n\u001B[0;32m    415\u001B[0m \u001B[38;5;28;01mdef\u001B[39;00m \u001B[38;5;21m__init__\u001B[39m(\u001B[38;5;28mself\u001B[39m, name, mode):\n\u001B[1;32m--> 416\u001B[0m     \u001B[38;5;28msuper\u001B[39m()\u001B[38;5;241m.\u001B[39m\u001B[38;5;21m__init__\u001B[39m(\u001B[38;5;28;43mopen\u001B[39;49m\u001B[43m(\u001B[49m\u001B[43mname\u001B[49m\u001B[43m,\u001B[49m\u001B[43m \u001B[49m\u001B[43mmode\u001B[49m\u001B[43m)\u001B[49m)\n",
      "\u001B[1;31mFileNotFoundError\u001B[0m: [Errno 2] No such file or directory: 'C:\\\\Users\\\\USER\\\\Documents\\\\GitHub\\\\Basketball-injury-classification\\\\AI창의융합경진대회\\\\saved_models\\\\best_model_fold_0.pth'"
     ]
    }
   ],
   "source": [
    "def load_model(model, filepath):\n",
    "       model.load_state_dict(torch.load(filepath))\n",
    "       model.eval()\n",
    "       return model\n",
    "\n",
    "load_directory = save_directory \n",
    "\n",
    "\n",
    "num_models = 8\n",
    "\n",
    "\n",
    "test_accuracies = []\n",
    "\n",
    "# Iterate through each model\n",
    "for i in range(num_models):\n",
    "       # Create a new instance of your model\n",
    "       model = Model()\n",
    "\n",
    "       # Load the model from the file\n",
    "       model_filename = f\"best_model_fold_{i}.pth\"\n",
    "       model_path = load_directory + model_filename\n",
    "       model = load_model(model, model_path)\n",
    "\n",
    "       # Test the model on the test set\n",
    "       correct = 0\n",
    "       total = 0\n",
    "       with torch.no_grad():\n",
    "              for images, targets in test_loader:\n",
    "                     outputs = model(images)\n",
    "                     _, predicted = torch.max(outputs.data, 1)\n",
    "                     total += targets.size(0)\n",
    "                     correct += (predicted == targets).sum().item()\n",
    "\n",
    "       # Calculate the accuracy for this model\n",
    "       accuracy = correct / total\n",
    "       test_accuracies.append(accuracy)\n",
    "\n",
    "       print(f\"Model {i+1} - Test Accuracy: {accuracy:.4f}\")\n",
    "\n",
    "# Print the average test accuracy across all models\n",
    "average_accuracy = sum(test_accuracies) / num_models\n",
    "print(f\"Average Test Accuracy: {average_accuracy:.4f}\")\n"
   ],
   "metadata": {
    "collapsed": false,
    "ExecuteTime": {
     "end_time": "2023-11-22T09:48:06.657089900Z",
     "start_time": "2023-11-22T09:48:06.605263100Z"
    }
   },
   "id": "15651ac8c33b3349"
  },
  {
   "cell_type": "code",
   "execution_count": 24,
   "outputs": [
    {
     "name": "stdout",
     "output_type": "stream",
     "text": [
      "저정된 frame의 개수: 148\n"
     ]
    }
   ],
   "source": [
    "# 여기부터 실시간 영상 테스트\n",
    "\n",
    "interval = 1\n",
    "video_path = '../dataset/slide/slide001.mp4'\n",
    "\n",
    "cap = cv2.VideoCapture(video_path)\n",
    "img_list = []\n",
    "if cap.isOpened():\n",
    "       cnt = 0\n",
    "       while True:\n",
    "              ret, img = cap.read()\n",
    "              if ret:\n",
    "                     img = cv2.resize(img, (640, 640))\n",
    "                     if cnt == interval:\n",
    "                            img_list.append(img)\n",
    "                            cnt = 0\n",
    "                     cv2.imshow(video_path, img)\n",
    "                     cv2.waitKey(1)\n",
    "                     cnt += 1\n",
    "              else:\n",
    "                     break\n",
    "cap.release()\n",
    "cv2.destroyAllWindows()\n",
    "\n",
    "print('저정된 frame의 개수: {}'.format(len(img_list)))"
   ],
   "metadata": {
    "collapsed": false,
    "ExecuteTime": {
     "end_time": "2023-11-21T06:57:21.466055700Z",
     "start_time": "2023-11-21T06:57:19.061334Z"
    }
   },
   "id": "307ee52ad21833ba"
  },
  {
   "cell_type": "code",
   "execution_count": 33,
   "outputs": [
    {
     "name": "stdout",
     "output_type": "stream",
     "text": [
      "시퀀스 데이터 분석 중...\n"
     ]
    },
    {
     "name": "stderr",
     "output_type": "stream",
     "text": [
      " 28%|██▊       | 41/148 [00:01<00:03, 33.13it/s]C:\\Users\\USER\\anaconda3\\envs\\py39\\lib\\site-packages\\torch\\nn\\modules\\module.py:1518: UserWarning: Implicit dimension choice for softmax has been deprecated. Change the call to include dim=X as an argument.\n",
      "  return self._call_impl(*args, **kwargs)\n",
      " 33%|███▎      | 49/148 [00:01<00:03, 32.12it/s]"
     ]
    },
    {
     "name": "stdout",
     "output_type": "stream",
     "text": [
      "2\n"
     ]
    },
    {
     "name": "stderr",
     "output_type": "stream",
     "text": [
      " 66%|██████▌   | 97/148 [00:03<00:01, 32.86it/s]"
     ]
    },
    {
     "name": "stdout",
     "output_type": "stream",
     "text": [
      "2\n"
     ]
    },
    {
     "name": "stderr",
     "output_type": "stream",
     "text": [
      " 95%|█████████▌| 141/148 [00:04<00:00, 32.68it/s]"
     ]
    },
    {
     "name": "stdout",
     "output_type": "stream",
     "text": [
      "2\n"
     ]
    },
    {
     "name": "stderr",
     "output_type": "stream",
     "text": [
      "100%|██████████| 148/148 [00:04<00:00, 32.44it/s]\n"
     ]
    }
   ],
   "source": [
    "# 연속 시퀀스 분석\n",
    "from tqdm import tqdm\n",
    "model_filename = f\"best_model_fold_1.pth\"\n",
    "model_path = load_directory + model_filename\n",
    "model = load_model(model, model_path)\n",
    "\n",
    "model.eval()\n",
    "out_img_list = []\n",
    "dataset = []\n",
    "status = 'None'\n",
    "mp_pose = mp.solutions.pose\n",
    "pose = mp_pose.Pose(static_image_mode=True, model_complexity=1, min_detection_confidence=0.7, min_tracking_confidence=0.5)\n",
    "\n",
    "\n",
    "print('시퀀스 데이터 분석 중...')\n",
    "xy_list_list = []\n",
    "\n",
    "\n",
    "for img in tqdm(img_list):\n",
    "       results = pose.process(cv2.cvtColor(img, cv2.COLOR_BGR2RGB))\n",
    "       if not results.pose_landmarks: continue\n",
    "       xy_list = []\n",
    "       idx = 0\n",
    "       for x_and_y in results.pose_landmarks.landmark:\n",
    "              xy_list.append(x_and_y.x)\n",
    "              xy_list.append(x_and_y.y)\n",
    "              x, y = int(x_and_y.x * 640), int(x_and_y.y * 640)\n",
    "       idx += 1\n",
    "       xy_list_list.append(xy_list)\n",
    "\n",
    "       length = 45\n",
    "       if len(xy_list_list) == length:\n",
    "              dataset = []\n",
    "              dataset.append({'key': 0, 'value': xy_list_list})\n",
    "              dataset = MyDataset(dataset)\n",
    "              dataset = DataLoader(dataset)\n",
    "              xy_list_list = []\n",
    "              for data, label in dataset:\n",
    "                     with torch.no_grad():\n",
    "                            result = model(data)\n",
    "                            _, out = torch.max(result, 1)\n",
    "                            print(out.item())\n",
    "       cv2.putText(img, status, (0, 50), cv2.FONT_HERSHEY_COMPLEX, 1.5, (0, 0, 255), 2)\n",
    "       out_img_list.append(img)\n",
    "           \n",
    "       \n",
    "       \n",
    "       \n",
    "       \n"
   ],
   "metadata": {
    "collapsed": false,
    "ExecuteTime": {
     "end_time": "2023-11-21T07:22:23.774213700Z",
     "start_time": "2023-11-21T07:22:19.191795400Z"
    }
   },
   "id": "3e8d1b58921162dd"
  },
  {
   "cell_type": "code",
   "execution_count": 29,
   "outputs": [
    {
     "data": {
      "text/plain": "[]"
     },
     "execution_count": 29,
     "metadata": {},
     "output_type": "execute_result"
    }
   ],
   "source": [
    "xy_list_list"
   ],
   "metadata": {
    "collapsed": false,
    "ExecuteTime": {
     "end_time": "2023-11-21T07:00:39.264531700Z",
     "start_time": "2023-11-21T07:00:39.249583300Z"
    }
   },
   "id": "e2f299f57d148cbf"
  },
  {
   "cell_type": "code",
   "execution_count": null,
   "outputs": [],
   "source": [],
   "metadata": {
    "collapsed": false
   },
   "id": "551f0f5e1c50bb1e"
  }
 ],
 "metadata": {
  "kernelspec": {
   "display_name": "Python 3",
   "language": "python",
   "name": "python3"
  },
  "language_info": {
   "codemirror_mode": {
    "name": "ipython",
    "version": 2
   },
   "file_extension": ".py",
   "mimetype": "text/x-python",
   "name": "python",
   "nbconvert_exporter": "python",
   "pygments_lexer": "ipython2",
   "version": "2.7.6"
  }
 },
 "nbformat": 4,
 "nbformat_minor": 5
}
