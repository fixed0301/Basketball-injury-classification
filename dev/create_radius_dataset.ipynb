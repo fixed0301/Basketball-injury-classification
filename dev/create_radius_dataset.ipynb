{
 "cells": [
  {
   "cell_type": "code",
   "execution_count": 6,
   "outputs": [],
   "source": [
    "BODY_PARTS = { \"Nose\": 0, \"LEye_in\": 1, \"LEye\": 2, \"LEye_out\": 3, \"REye_in\": 4, \"REye\": 5, \"REye_out\": 6, \"LEar\": 7, \"REar\":8,\n",
    "               \"LMouth\": 9, \"RMouth\": 10, \"LShoulder\": 11, \"RShoulder\": 12,\n",
    "               \"LElbow\": 13, \"RElbow\": 14, \"LWrist\": 15, \"RWrist\": 16,\n",
    "               \"LPinky\": 17, \"RPinky\": 18, \"LIndex\": 19, \"RIndex\": 20,\n",
    "               \"LThumb\": 21, \"RThumb\": 22, \"LHip\": 23, \"RHip\": 24,\n",
    "               \"LKnee\": 25, \"RKnee\": 26, \"LAnkle\": 27, \"RAnkle\": 28,\n",
    "               \"LHeel\": 29, \"RHeel\": 30, \"LFIndex\": 31, \"RFIndex\": 32}"
   ],
   "metadata": {
    "collapsed": false,
    "ExecuteTime": {
     "end_time": "2023-11-30T02:28:23.356698100Z",
     "start_time": "2023-11-30T02:28:23.304321200Z"
    }
   },
   "id": "86ea99a61576f9b6"
  },
  {
   "cell_type": "code",
   "execution_count": 25,
   "outputs": [],
   "source": [
    "import pandas as pd\n",
    "import numpy as np\n",
    "import os"
   ],
   "metadata": {
    "collapsed": false,
    "ExecuteTime": {
     "end_time": "2023-11-30T02:51:08.620882700Z",
     "start_time": "2023-11-30T02:51:08.590518900Z"
    }
   },
   "id": "fbce1dff8ef88615"
  },
  {
   "cell_type": "code",
   "execution_count": 35,
   "outputs": [
    {
     "name": "stdout",
     "output_type": "stream",
     "text": [
      "ankle_1.mp4.csv, processed!\n",
      "ankle_2.mp4.csv, processed!\n",
      "ankle_3.mp4.csv, processed!\n",
      "ankle_4.mp4.csv, processed!\n",
      "ankle_5.mp4.csv, processed!\n",
      "ankle_6.mp4.csv, processed!\n",
      "ankle_7.mp4.csv, processed!\n",
      "fall_1.mp4.csv, processed!\n",
      "fall_2.mp4.csv, processed!\n",
      "fall_3.mp4.csv, processed!\n",
      "jump_1.mp4.csv, processed!\n",
      "jump_10.mp4.csv, processed!\n",
      "jump_2.mp4.csv, processed!\n",
      "jump_3.mp4.csv, processed!\n",
      "jump_4.mp4.csv, processed!\n",
      "jump_5.mp4.csv, processed!\n",
      "jump_6.mp4.csv, processed!\n",
      "jump_7.mp4.csv, processed!\n",
      "jump_8.mp4.csv, processed!\n",
      "jump_9.mp4.csv, processed!\n",
      "knee_1.mp4.csv, processed!\n",
      "knee_2.mp4.csv, processed!\n",
      "knee_3.mp4.csv, processed!\n",
      "knee_4.mp4.csv, processed!\n",
      "knee_5.mp4.csv, processed!\n",
      "run_1.mp4.csv, processed!\n",
      "walk_1.mp4.csv, processed!\n"
     ]
    }
   ],
   "source": [
    "def calculate_angle3D(a, b, c, direction):\n",
    "    external_z = (b[0] - a[0]) * (b[1] - c[1]) - (b[1] - a[1]) * (b[0] - c[0])\n",
    "\n",
    "    ba = b - a\n",
    "    bc = b - c\n",
    "    dot_result = np.dot(ba, bc)\n",
    "\n",
    "    ba_size = np.linalg.norm(ba)\n",
    "    bc_size = np.linalg.norm(bc)\n",
    "    radi = np.arccos(dot_result / (ba_size * bc_size))\n",
    "    angle = np.abs(radi * 180.0 / np.pi)\n",
    "\n",
    "    if external_z * direction > 0:\n",
    "        angle = 360 - angle\n",
    "    return angle\n",
    "\n",
    "\n",
    "folder_path = 'csv_dataset'\n",
    "for file in os.listdir(folder_path):\n",
    "    file_path = os.path.join(folder_path, file)\n",
    "    df = pd.read_csv(file_path)\n",
    "\n",
    "    # 각 랜드마크 쌍에 대한 각도 계산 및 결과 저장\n",
    "    landmark_pairs = [\n",
    "        (11, 23, 25),\n",
    "        (12, 24, 26),\n",
    "        (23, 25, 27),\n",
    "        (24, 26, 28),\n",
    "        (25, 27, 31),\n",
    "        (26, 28, 32)\n",
    "    ]\n",
    "    \n",
    "    result_df = pd.DataFrame()\n",
    "    \n",
    "    i = 0\n",
    "    # 각 랜드마크 쌍에 대해 처리\n",
    "    for pair in landmark_pairs:\n",
    "        col_names = [f'{col}' for col in BODY_PARTS.keys()]\n",
    "        result_df[i] = df.apply(lambda row: calculate_angle3D(\n",
    "            np.array([row[col_names[0] + '_x'], row[col_names[0] + '_y'], row[col_names[0] + '_z']]),\n",
    "            np.array([row[col_names[1] + '_x'], row[col_names[1] + '_y'], row[col_names[1] + '_z']]),\n",
    "            np.array([row[col_names[2] + '_x'], row[col_names[2] + '_y'], row[col_names[2] + '_z']]),\n",
    "            direction=1\n",
    "        ), axis=1)\n",
    "        i += 1\n",
    "    \n",
    "    result_df = pd.concat([result_df.iloc[i::len(landmark_pairs)] for i in range(len(landmark_pairs))]).reset_index(drop=True)\n",
    "    result_df = result_df.iloc[1:]\n",
    "    result_df.to_csv('radius_csv_dataset/'+ file +'.csv', index=False)\n",
    "    print(f'{file}, processed!')\n"
   ],
   "metadata": {
    "collapsed": false,
    "ExecuteTime": {
     "end_time": "2023-11-30T03:03:03.800377Z",
     "start_time": "2023-11-30T03:03:00.921486Z"
    }
   },
   "id": "2d9e82021699cfdf"
  }
 ],
 "metadata": {
  "kernelspec": {
   "display_name": "Python 3",
   "language": "python",
   "name": "python3"
  },
  "language_info": {
   "codemirror_mode": {
    "name": "ipython",
    "version": 2
   },
   "file_extension": ".py",
   "mimetype": "text/x-python",
   "name": "python",
   "nbconvert_exporter": "python",
   "pygments_lexer": "ipython2",
   "version": "2.7.6"
  }
 },
 "nbformat": 4,
 "nbformat_minor": 5
}
